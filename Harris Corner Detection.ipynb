{
 "cells": [
  {
   "cell_type": "markdown",
   "id": "d4a23169",
   "metadata": {},
   "source": [
    "## Harris corner detection"
   ]
  },
  {
   "cell_type": "markdown",
   "id": "8bc77484",
   "metadata": {},
   "source": [
    "This code detects corners on the image and returns the keypoints and descriptors of the corners. This will be used in the brute force matching to find the matches, and later the $p^A$"
   ]
  },
  {
   "cell_type": "code",
   "execution_count": 75,
   "id": "38b39fcd",
   "metadata": {},
   "outputs": [],
   "source": [
    "import cv2\n",
    "import numpy as np\n",
    "import os\n",
    "\n",
    "def harris(gray_img):\n",
    "    gray_img = np.float32(gray_img)\n",
    "    dst = cv2.cornerHarris(gray_img, 2, 3, 0.22)\n",
    "    # Convert grayscale image to 3-channel BGR image\n",
    "    result_img = cv2.cvtColor(gray_img, cv2.COLOR_GRAY2BGR)\n",
    "    # Draw corners on the result image\n",
    "    result_img[dst > 0.01 * dst.max()] = [0, 0, 255]\n",
    "    # Extract keypoints\n",
    "    keypoints = np.argwhere(dst > 0.01 * dst.max())\n",
    "    keypoints = [cv2.KeyPoint(float(x[1]), float(x[0]), 13) for x in keypoints]\n",
    "    return keypoints, result_img\n",
    "\n",
    "\n",
    "folder_dir = \"/Users/arnabhardwaj/Downloads/images\"\n",
    "output_dir = \"/Users/arnabhardwaj/Downloads/Sample3\"\n",
    "\n",
    "os.makedirs(output_dir, exist_ok=True)\n",
    "\n",
    "for image_name in os.listdir(folder_dir):\n",
    "    image_grey = cv2.imread(os.path.join(folder_dir, image_name), cv2.IMREAD_GRAYSCALE)\n",
    "\n",
    "    # Calculate the Harris Corner features and transform them to keypoints\n",
    "    kp, img = harris(image_grey)\n",
    "\n",
    "    # Compute the SIFT descriptors from the Harris Corner keypoints\n",
    "    sift = cv2.SIFT_create()\n",
    "    keypoints, descriptors = sift.compute(image_grey, kp)\n",
    "    # Draw keypoints on the image\n",
    "    img_with_keypoints = cv2.drawKeypoints(image_grey, kp, None)\n",
    "\n",
    "    output_file = os.path.join(output_dir, image_name)\n",
    "    cv2.imwrite(output_file, img_with_keypoints)"
   ]
  }
 ],
 "metadata": {
  "kernelspec": {
   "display_name": "Python 3 (ipykernel)",
   "language": "python",
   "name": "python3"
  },
  "language_info": {
   "codemirror_mode": {
    "name": "ipython",
    "version": 3
   },
   "file_extension": ".py",
   "mimetype": "text/x-python",
   "name": "python",
   "nbconvert_exporter": "python",
   "pygments_lexer": "ipython3",
   "version": "3.12.1"
  }
 },
 "nbformat": 4,
 "nbformat_minor": 5
}
