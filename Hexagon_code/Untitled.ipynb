{
 "cells": [
  {
   "cell_type": "code",
   "execution_count": 3,
   "id": "a197a72f",
   "metadata": {},
   "outputs": [],
   "source": [
    "import os\n",
    "import cv2\n",
    "import numpy as np\n",
    "\n",
    "folder_dir = \"/Users/arnabhardwaj/Hexagons\"\n",
    "image_files = os.listdir(folder_dir)\n",
    "output_dir = \"/Users/arnabhardwaj/Downloads/Hexagon_layers_thresholded\"\n",
    "\n",
    "os.makedirs(output_dir, exist_ok=True)\n",
    "\n",
    "for image_name in os.listdir(folder_dir):\n",
    "    img = cv2.imread(os.path.join(folder_dir, image_name))\n",
    "    \n",
    "    hsv = cv2.cvtColor(img, cv2.COLOR_BGR2HSV)\n",
    "    \n",
    "    mask = cv2.inRange(hsv, (40, 40,40), (70, 255,255))\n",
    "\n",
    "\n",
    "    imask = mask>0\n",
    "    red = np.zeros_like(img, np.uint8)\n",
    "    red[imask] = img[imask]\n",
    "    \n",
    "    \n",
    "    output_file = os.path.join(output_dir, image_name)\n",
    "    cv2.imwrite(output_file, mask)"
   ]
  },
  {
   "cell_type": "code",
   "execution_count": 20,
   "id": "8ad2909b",
   "metadata": {},
   "outputs": [],
   "source": [
    "folder_dir = \"/Users/arnabhardwaj/Hexagons\"\n",
    "image_files = os.listdir(folder_dir)\n",
    "output_dir = \"/Users/arnabhardwaj/Downloads/Hexagon_layers_thresholded_gradient\"\n",
    "\n",
    "os.makedirs(output_dir, exist_ok=True)\n",
    "\n",
    "for image_name in os.listdir(folder_dir):\n",
    "    image_grey = cv2.imread(os.path.join(folder_dir, image_name),cv2.IMREAD_GRAYSCALE)\n",
    "    image_grey = cv2.GaussianBlur(image_grey, (5, 5), 30)\n",
    "\n",
    "    gx= cv2.Scharr(np.float32(image_grey), cv2.CV_64F, 1, 0) #i need to understand these because idk     \n",
    "    gy= cv2.Scharr(np.float32(image_grey), cv2.CV_64F, 0, 1)\n",
    "\n",
    "    grad_mag = np.sqrt((gx ** 2) + (gy ** 2))\n",
    "\n",
    "    per= np.percentile(grad_mag, 94.0)\n",
    "\n",
    "\n",
    "    for i in range(grad_mag.shape[0]):\n",
    "        for j in range(grad_mag.shape[1]):\n",
    "            if(grad_mag[i, j]<per): #580\n",
    "                grad_mag[i, j]=0 \n",
    "\n",
    "\n",
    "    ret, thresh1 = cv2.threshold(grad_mag, 240, 255, cv2.THRESH_BINARY)\n",
    "    \n",
    "    output_file = os.path.join(output_dir, image_name)\n",
    "    cv2.imwrite(output_file, thresh1)"
   ]
  },
  {
   "cell_type": "code",
   "execution_count": null,
   "id": "0d63ceae",
   "metadata": {},
   "outputs": [],
   "source": []
  },
  {
   "cell_type": "code",
   "execution_count": null,
   "id": "f78bd959",
   "metadata": {},
   "outputs": [],
   "source": [
    "image_grey = cv2.imread(\"front_3.png\",cv2.IMREAD_GRAYSCALE)\n",
    "image_grey = cv2.GaussianBlur(image_grey, (3, 3), 15)\n",
    "\n",
    "gx= cv2.Scharr(np.float32(image_grey), cv2.CV_64F, 1, 0) #i need to understand these because idk     \n",
    "gy= cv2.Scharr(np.float32(image_grey), cv2.CV_64F, 0, 1)\n",
    "\n",
    "grad_mag = np.sqrt((gx ** 2) + (gy ** 2))\n",
    "\n",
    "per= np.percentile(grad_mag, 99.7)\n",
    "\n",
    "\n",
    "for i in range(grad_mag.shape[0]):\n",
    "    for j in range(grad_mag.shape[1]):\n",
    "        if(grad_mag[i, j]<per): #580\n",
    "            grad_mag[i, j]=0 \n",
    "\n",
    "    \n",
    "ret, thresh1 = cv2.threshold(grad_mag, 240, 255, cv2.THRESH_BINARY)\n",
    "cv2.imshow('image1', thresh1)\n",
    "if cv2.waitKey(15) & 0xff == 27: \n",
    "    cv2.destroyAllWindows()"
   ]
  }
 ],
 "metadata": {
  "kernelspec": {
   "display_name": "Python 3 (ipykernel)",
   "language": "python",
   "name": "python3"
  },
  "language_info": {
   "codemirror_mode": {
    "name": "ipython",
    "version": 3
   },
   "file_extension": ".py",
   "mimetype": "text/x-python",
   "name": "python",
   "nbconvert_exporter": "python",
   "pygments_lexer": "ipython3",
   "version": "3.11.5"
  }
 },
 "nbformat": 4,
 "nbformat_minor": 5
}
