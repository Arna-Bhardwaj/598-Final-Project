{
 "cells": [
  {
   "cell_type": "code",
   "execution_count": 1,
   "id": "e7e19805",
   "metadata": {},
   "outputs": [
    {
     "ename": "FileNotFoundError",
     "evalue": "[Errno 2] No such file or directory: '/Users/arnabhardwaj/Hexagons'",
     "output_type": "error",
     "traceback": [
      "\u001b[0;31m---------------------------------------------------------------------------\u001b[0m",
      "\u001b[0;31mFileNotFoundError\u001b[0m                         Traceback (most recent call last)",
      "Cell \u001b[0;32mIn[1], line 6\u001b[0m\n\u001b[1;32m      3\u001b[0m \u001b[38;5;28;01mimport\u001b[39;00m \u001b[38;5;21;01mnumpy\u001b[39;00m \u001b[38;5;28;01mas\u001b[39;00m \u001b[38;5;21;01mnp\u001b[39;00m\n\u001b[1;32m      5\u001b[0m folder_dir \u001b[38;5;241m=\u001b[39m \u001b[38;5;124m\"\u001b[39m\u001b[38;5;124m/Users/arnabhardwaj/Hexagons\u001b[39m\u001b[38;5;124m\"\u001b[39m\n\u001b[0;32m----> 6\u001b[0m image_files \u001b[38;5;241m=\u001b[39m \u001b[43mos\u001b[49m\u001b[38;5;241;43m.\u001b[39;49m\u001b[43mlistdir\u001b[49m\u001b[43m(\u001b[49m\u001b[43mfolder_dir\u001b[49m\u001b[43m)\u001b[49m\n\u001b[1;32m      7\u001b[0m output_dir \u001b[38;5;241m=\u001b[39m \u001b[38;5;124m\"\u001b[39m\u001b[38;5;124m/Users/arnabhardwaj/Downloads/Hexagon_layers_thresholded_gradient\u001b[39m\u001b[38;5;124m\"\u001b[39m\n\u001b[1;32m      9\u001b[0m os\u001b[38;5;241m.\u001b[39mmakedirs(output_dir, exist_ok\u001b[38;5;241m=\u001b[39m\u001b[38;5;28;01mTrue\u001b[39;00m)\n",
      "\u001b[0;31mFileNotFoundError\u001b[0m: [Errno 2] No such file or directory: '/Users/arnabhardwaj/Hexagons'"
     ]
    }
   ],
   "source": [
    "import os\n",
    "import cv2\n",
    "import numpy as np\n",
    "\n",
    "folder_dir = \"/Users/arnabhardwaj/Hexagons\"\n",
    "image_files = os.listdir(folder_dir)\n",
    "output_dir = \"/Users/arnabhardwaj/Downloads/Hexagon_layers_thresholded_gradient\"\n",
    "\n",
    "os.makedirs(output_dir, exist_ok=True)\n",
    "\n",
    "for image_name in os.listdir(folder_dir):\n",
    "    image_grey = cv2.imread(os.path.join(folder_dir, image_name),cv2.IMREAD_GRAYSCALE)\n",
    "    image_grey = cv2.GaussianBlur(image_grey, (5, 5), 30)\n",
    "\n",
    "    gx= cv2.Scharr(np.float32(image_grey), cv2.CV_64F, 1, 0) #i need to understand these because idk     \n",
    "    gy= cv2.Scharr(np.float32(image_grey), cv2.CV_64F, 0, 1)\n",
    "\n",
    "    grad_mag = np.sqrt((gx ** 2) + (gy ** 2))\n",
    "\n",
    "    per= np.percentile(grad_mag, 94.0)\n",
    "\n",
    "\n",
    "    for i in range(grad_mag.shape[0]):\n",
    "        for j in range(grad_mag.shape[1]):\n",
    "            if(grad_mag[i, j]<per): #580\n",
    "                grad_mag[i, j]=0 \n",
    "\n",
    "\n",
    "    ret, thresh1 = cv2.threshold(grad_mag, 240, 255, cv2.THRESH_BINARY)\n",
    "    \n",
    "    output_file = os.path.join(output_dir, image_name)\n",
    "    cv2.imwrite(output_file, thresh1)"
   ]
  },
  {
   "cell_type": "code",
   "execution_count": null,
   "id": "a59e5df1",
   "metadata": {},
   "outputs": [],
   "source": []
  }
 ],
 "metadata": {
  "kernelspec": {
   "display_name": "Python 3 (ipykernel)",
   "language": "python",
   "name": "python3"
  },
  "language_info": {
   "codemirror_mode": {
    "name": "ipython",
    "version": 3
   },
   "file_extension": ".py",
   "mimetype": "text/x-python",
   "name": "python",
   "nbconvert_exporter": "python",
   "pygments_lexer": "ipython3",
   "version": "3.11.5"
  }
 },
 "nbformat": 4,
 "nbformat_minor": 5
}
